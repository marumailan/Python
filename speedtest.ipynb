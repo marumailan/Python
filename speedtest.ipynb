{
 "cells": [
  {
   "cell_type": "code",
   "execution_count": 1,
   "metadata": {},
   "outputs": [
    {
     "name": "stdout",
     "output_type": "stream",
     "text": [
      "Collecting speedtest-cli\n",
      "  Downloading speedtest_cli-2.1.3-py2.py3-none-any.whl.metadata (6.8 kB)\n",
      "Downloading speedtest_cli-2.1.3-py2.py3-none-any.whl (23 kB)\n",
      "Installing collected packages: speedtest-cli\n",
      "Successfully installed speedtest-cli-2.1.3\n",
      "Note: you may need to restart the kernel to use updated packages.\n"
     ]
    }
   ],
   "source": [
    "pip install speedtest-cli"
   ]
  },
  {
   "cell_type": "code",
   "execution_count": 2,
   "metadata": {},
   "outputs": [
    {
     "name": "stdout",
     "output_type": "stream",
     "text": [
      "Your Donwlaoad speed is:  308593578.18922615\n",
      "Your Upload speed is:  207836348.621112\n"
     ]
    }
   ],
   "source": [
    "# import speedtest module\n",
    "import speedtest\n",
    "\n",
    "speed_test = speedtest.Speedtest()\n",
    "\n",
    "download_speed =  speed_test.download()\n",
    "print(\"Your Donwlaoad speed is:\", download_speed)\n",
    "\n",
    "upload_speed = speed_test.upload()\n",
    "print(\"Your Upload speed is:\", upload_speed)"
   ]
  },
  {
   "cell_type": "code",
   "execution_count": 3,
   "metadata": {},
   "outputs": [
    {
     "name": "stdout",
     "output_type": "stream",
     "text": [
      "1\n"
     ]
    }
   ],
   "source": [
    "def bytes_to_mb(bytes):\n",
    "    KB = 1024 # One Kilobyte is 1024 bytes\n",
    "    MB = KB * 1024 # One MB is 1024 KB\n",
    "    return int(bytes/MB)\n",
    "\n",
    "val = bytes_to_mb(1024*1024)\n",
    "print(val)"
   ]
  },
  {
   "cell_type": "code",
   "execution_count": 5,
   "metadata": {},
   "outputs": [
    {
     "name": "stdout",
     "output_type": "stream",
     "text": [
      "Your Donwlaoad speed is: 296 MB\n",
      "Your Upload speed is: 189 MB\n"
     ]
    }
   ],
   "source": [
    "import speedtest\n",
    "\n",
    "speed_test = speedtest.Speedtest()\n",
    "\n",
    "def bytes_to_mb(bytes):\n",
    "    KB = 1024 # One Kilobyte is 1024 bytes\n",
    "    MB = KB * 1024 # One MB is 1024 KB\n",
    "    return int(bytes/MB)\n",
    "\n",
    "\n",
    "download_speed =  bytes_to_mb(speed_test.download())\n",
    "print(\"Your Donwlaoad speed is:\", download_speed,\"MB\")\n",
    "\n",
    "upload_speed = bytes_to_mb(speed_test.upload())\n",
    "print(\"Your Upload speed is:\", upload_speed,\"MB\")"
   ]
  }
 ],
 "metadata": {
  "kernelspec": {
   "display_name": "Python 3",
   "language": "python",
   "name": "python3"
  },
  "language_info": {
   "codemirror_mode": {
    "name": "ipython",
    "version": 3
   },
   "file_extension": ".py",
   "mimetype": "text/x-python",
   "name": "python",
   "nbconvert_exporter": "python",
   "pygments_lexer": "ipython3",
   "version": "3.12.4"
  }
 },
 "nbformat": 4,
 "nbformat_minor": 2
}
