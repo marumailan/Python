{
 "cells": [
  {
   "cell_type": "markdown",
   "id": "4f1a2c7e",
   "metadata": {},
   "source": [
    "## SECTION 6: Numbers, Operators and Comments"
   ]
  },
  {
   "cell_type": "markdown",
   "id": "cd041566",
   "metadata": {},
   "source": [
    "## NUMBERS AND MATH\n",
    "\n",
    "There are two main types of numbers\n",
    "\n",
    "1. *Integer* (Whole Numbers)\n",
    "2. *Floating Point* (Decimal Numbers)\n",
    "\n",
    "\n",
    "\n",
    "|Integer|Floating Point|\n",
    "|:----- |:-----|\n",
    "|4      |6.1               |\n",
    "|25      |1.3333333               |\n",
    "\n",
    "\n",
    "Commonly used math operators\n",
    "\n",
    "|Symbol|Name|\n",
    "|:-----:|:-----:|\n",
    "|+      |Addition               |\n",
    "|*   |Multiplication            |\n",
    "|/      |Division               |\n",
    "|**     |Exponentation               |\n",
    "|%      |Modulo              |\n",
    "|//     |Integer Division              |"
   ]
  },
  {
   "cell_type": "markdown",
   "id": "72c00a48",
   "metadata": {},
   "source": [
    "## VARIABLES AND DATA TYPES\n",
    "\n",
    "Variable Assignment\n",
    "\n",
    "Variable = A variable in Pythoin is like a variable in mathematics, it is a named symbol that holds a value.\n",
    "\n",
    "```python\n",
    "X = 100\n",
    "Y = 50\n",
    "This_is_a_variable = 10\n",
    "\n",
    "print(X + Y + This_is_a_variable)\n",
    "```\n",
    "\n",
    "Variable can be:\n",
    "1. Assigned to other variables\n",
    "2. reassigned at any time\n",
    "3. assigned at the same time as other variables\n",
    "\n",
    "```python\n",
    "python_is_awesome = 100\n",
    "\n",
    "just_another_var = python_is_awesome\n",
    "\n",
    "python_is_awesome = 1337\n",
    "\n",
    "```"
   ]
  },
  {
   "cell_type": "markdown",
   "id": "9afc789c",
   "metadata": {},
   "source": [
    "## NAMING RESTRICTIONS\n",
    "\n",
    "Naming Restrictions\n",
    "In Python, you can name your variables whatever you want, with\n",
    "some restrictions:\n",
    "1. Variables must start with a letter or underscore\n",
    "_cats 2cats\n",
    "2. The rest of the name must consist of letters, numbers, or underscores\n",
    "cats2 hey@you\n",
    "3. Names are case-sensitive\n",
    "CATS != Cats Cats != cats"
   ]
  },
  {
   "cell_type": "markdown",
   "id": "0b792fdf",
   "metadata": {},
   "source": [
    "## NAMING CONVENTIONS\n",
    "\n",
    "Most Python programmers prefer to use standard style conventions\n",
    "when naming things:\n",
    "\n",
    "1. Most variables should be snake_case (underscores between words)\n",
    "2. Most variables should be also be lowercase, with some exceptions:\n",
    "CAPITAL_SNAKE_CASE usually refers to constants (e.g. PI = 3.14)\n",
    "UpperCamelCase usually refers to a class (more on that later)\n",
    "3. Variables that start and end with two underscores (called \"dunder\"\n",
    "for double underscore) are supposed to be private or left alone\n",
    "__no_touchy__"
   ]
  }
 ],
 "metadata": {
  "kernelspec": {
   "display_name": "Python 3",
   "language": "python",
   "name": "python3"
  },
  "language_info": {
   "codemirror_mode": {
    "name": "ipython",
    "version": 3
   },
   "file_extension": ".py",
   "mimetype": "text/x-python",
   "name": "python",
   "nbconvert_exporter": "python",
   "pygments_lexer": "ipython3",
   "version": "3.12.4"
  }
 },
 "nbformat": 4,
 "nbformat_minor": 5
}
