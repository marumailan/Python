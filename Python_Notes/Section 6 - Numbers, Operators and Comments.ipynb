{
 "cells": [
  {
   "cell_type": "markdown",
   "id": "4f1a2c7e",
   "metadata": {},
   "source": [
    "## SECTION 6: Numbers, Operators and Comments"
   ]
  },
  {
   "cell_type": "markdown",
   "id": "cd041566",
   "metadata": {},
   "source": [
    "## NUMBERS AND MATH\n",
    "\n",
    "There are two main types of numbers\n",
    "\n",
    "1. *Integer* (Whole Numbers)\n",
    "2. *Floating Point* (Decimal Numbers)\n",
    "\n",
    "\n",
    "\n",
    "|Integer|Floating Point|\n",
    "|:----- |:-----|\n",
    "|4      |6.1               |\n",
    "|25      |1.3333333               |"
   ]
  }
 ],
 "metadata": {
  "kernelspec": {
   "display_name": "Python 3",
   "language": "python",
   "name": "python3"
  },
  "language_info": {
   "name": "python",
   "version": "3.12.4"
  }
 },
 "nbformat": 4,
 "nbformat_minor": 5
}
