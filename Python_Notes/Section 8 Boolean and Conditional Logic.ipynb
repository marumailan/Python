{
 "cells": [
  {
   "cell_type": "markdown",
   "id": "a8f9fb1d",
   "metadata": {},
   "source": [
    "## SECTION 8: BOOLEAN AND CONDITION LOGIC\n",
    "\n",
    "## User Input\n",
    "\n",
    "There is a built-in function in Python called \"input\" that will prompt the user and store the result to a variable.\n",
    "\n",
    "```python\n",
    "\n",
    "name = input(\"Enter your name here: \")\n",
    "Enter your name here: Tyrion Lannister\n",
    "name\n",
    "'Tyrion Lannister'\n",
    "```"
   ]
  },
  {
   "cell_type": "markdown",
   "id": "57af1f31",
   "metadata": {},
   "source": [
    "## BOOLEAN EXPRESSIONS\n",
    "\n",
    "### Conditional Statements\n",
    "\n",
    "Conditionla logic using if statements represents different paths a program can take based on some type of comparison of input\n",
    "\n",
    "```python\n",
    "if some condition is True:\n",
    "    do something\n",
    "elif some other condition is True:\n",
    "    do something\n",
    "else:\n",
    "    do something\n",
    "\n",
    "```\n",
    "\n"
   ]
  },
  {
   "cell_type": "markdown",
   "id": "0914fd13",
   "metadata": {},
   "source": [
    "## TRUTHINESS\n",
    "\n",
    "In Python, all conditional checks resolve to True or False.\n",
    "\n",
    "```python\n",
    "x = 1\n",
    "x is 1 # True\n",
    "x is 0 # Fals\n",
    "```\n",
    "We can call values that will resolve to True \"truthy\", or values that will resolve to False \"falsy\".\n",
    "\n",
    "Besides False conditional checks, other things that are naturally falsy include: empty objects, empty strings, N one, and zero."
   ]
  },
  {
   "cell_type": "code",
   "execution_count": 5,
   "id": "e3ef6920",
   "metadata": {},
   "outputs": [
    {
     "name": "stdout",
     "output_type": "stream",
     "text": [
      "1+1 is my favorite animal too!\n"
     ]
    }
   ],
   "source": [
    "## Truthiness\n",
    "\n",
    "animal = input(\"Enter an animal: \\n\")\n",
    "\n",
    "if animal:\n",
    "    print(animal + \" is my favorite animal too!\")\n",
    "else:\n",
    "    print(\"You did not enter anything\")\n",
    "\n",
    "## EXPLANATION: Strings, any strings that is not empty is \"TRUE\", but when it is empty it's \"FALSE\""
   ]
  },
  {
   "cell_type": "code",
   "execution_count": 11,
   "id": "8d10bba9",
   "metadata": {},
   "outputs": [
    {
     "name": "stdout",
     "output_type": "stream",
     "text": [
      "Minor\n"
     ]
    }
   ],
   "source": [
    "# 4) Negating a comparison\n",
    "age = 15\n",
    "if not (age >= 18):\n",
    "    print(\"Minor\")\n",
    "else:\n",
    "    print('not a minor')           # runs"
   ]
  },
  {
   "cell_type": "code",
   "execution_count": 8,
   "id": "ccdafb9e",
   "metadata": {},
   "outputs": [
    {
     "name": "stdout",
     "output_type": "stream",
     "text": [
      "Please enter an age\n"
     ]
    }
   ],
   "source": [
    "age = input(\"How old are you: \")\n",
    "if age:\n",
    "    age = int(age)\n",
    "\n",
    "    if age >= 21:\n",
    "        print(\"You may enter and can have drinks\")\n",
    "    elif age >= 18:\n",
    "        print(\"You may enter but need a wristband\")\n",
    "    else:\n",
    "        print(\"You cannot come in, sorry\")\n",
    "else:\n",
    "\n",
    "    print(\"Please enter an age\")\n",
    "\n"
   ]
  },
  {
   "cell_type": "code",
   "execution_count": 7,
   "id": "d9aa96e3",
   "metadata": {},
   "outputs": [
    {
     "data": {
      "text/plain": [
       "True"
      ]
     },
     "execution_count": 7,
     "metadata": {},
     "output_type": "execute_result"
    }
   ],
   "source": [
    "\"b\" > \"a\""
   ]
  },
  {
   "cell_type": "code",
   "execution_count": null,
   "id": "149af2d8",
   "metadata": {},
   "outputs": [
    {
     "data": {
      "text/plain": [
       "True"
      ]
     },
     "execution_count": 2,
     "metadata": {},
     "output_type": "execute_result"
    }
   ],
   "source": [
    "x = 0\n",
    "y = -1\n",
    "x or y and (x - 1 == y) and (y + 1 == x)"
   ]
  },
  {
   "cell_type": "code",
   "execution_count": null,
   "id": "08cdb7a9",
   "metadata": {},
   "outputs": [
    {
     "name": "stdout",
     "output_type": "stream",
     "text": [
      "player_1 is paper vs player_2 is paper: 'The game is a draw!\n",
      "player_1 is rock vs player_2 is paper: \n",
      "Player 2 Wins!\n",
      "Game Over! Thank you for playing!\n"
     ]
    }
   ],
   "source": [
    "import random\n",
    "\n",
    "player_choices = (\"rock\", \"paper\", \"scissors\")\n",
    "\n",
    "\n",
    "while True:\n",
    "    player_1 = input(\"Enter rock, paper or scissors: \").strip().lower()\n",
    "    player_2 = random.choice(player_choices)\n",
    "\n",
    "\n",
    "    #DRAW\n",
    "    if player_1 == player_2:\n",
    "        print(f\"player_1 is {player_1} vs player_2 is {player_2}: 'The game is a draw!\")\n",
    "\n",
    "        #Player 1 Wins!\n",
    "    elif player_1 == 'rock' and player_2 == 'scissors':\n",
    "        print(f\"player_1 is {player_1} vs player_2 is {player_2}: \\nPlayer 1 Wins!\")\n",
    "    elif player_1 == 'scissors' and player_2 == 'paper':\n",
    "        print(f\"player_1 is {player_1} vs player_2 is {player_2}: \\nPlayer 1 Wins!\")\n",
    "    elif player_1 == 'paper' and player_2 == 'rock':\n",
    "        print(f\"player_1 is {player_1} vs player_2 is {player_2}: \\nPlayer 1 Wins!\")\n",
    "\n",
    "        #Player 2 Wins!\n",
    "    elif player_2 == 'rock' and player_1 == 'scissors':\n",
    "        print(f\"player_1 is {player_1} vs player_2 is {player_2}: \\nPlayer 2 Wins!\")\n",
    "    elif player_2 == 'scissors' and player_1 == 'paper':\n",
    "        print(f\"player_1 is {player_1} vs player_2 is {player_2}: \\nPlayer 2 Wins!\")\n",
    "    elif player_2 == 'paper' and player_1 == 'rock':\n",
    "        print(f\"player_1 is {player_1} vs player_2 is {player_2}: \\nPlayer 2 Wins!\")\n",
    "\n",
    "    elif player_1 not in player_choices:\n",
    "        print(\"Invalid choice, thank you for playing! Game Over\")\n",
    "    \n",
    "    play_again = input(\"Play again? (y/n): \").strip().lower()\n",
    "    if play_again == 'no' or play_again == 'n':\n",
    "        print('Game Over! Thank you for playing!')\n",
    "        break\n",
    "\n"
   ]
  },
  {
   "cell_type": "code",
   "execution_count": null,
   "id": "5f015b7d",
   "metadata": {},
   "outputs": [],
   "source": []
  },
  {
   "cell_type": "code",
   "execution_count": null,
   "id": "9a080773",
   "metadata": {},
   "outputs": [],
   "source": []
  },
  {
   "cell_type": "code",
   "execution_count": null,
   "id": "12880b95",
   "metadata": {},
   "outputs": [],
   "source": []
  },
  {
   "cell_type": "code",
   "execution_count": null,
   "id": "20495acc",
   "metadata": {},
   "outputs": [],
   "source": []
  },
  {
   "cell_type": "code",
   "execution_count": null,
   "id": "6abd4004",
   "metadata": {},
   "outputs": [],
   "source": []
  },
  {
   "cell_type": "code",
   "execution_count": null,
   "id": "7b5815a6",
   "metadata": {},
   "outputs": [],
   "source": []
  },
  {
   "cell_type": "code",
   "execution_count": null,
   "id": "90a3c2ba",
   "metadata": {},
   "outputs": [],
   "source": []
  },
  {
   "cell_type": "code",
   "execution_count": 49,
   "id": "b3d96ca0",
   "metadata": {},
   "outputs": [
    {
     "name": "stdout",
     "output_type": "stream",
     "text": [
      "paper\n"
     ]
    }
   ],
   "source": [
    "player_choices = (\"rock\", \"paper\", \"scissors\")\n",
    "\n",
    "player_2 = str(random.choice(player_choices))\n",
    "\n",
    "print(player_2)"
   ]
  },
  {
   "cell_type": "code",
   "execution_count": null,
   "id": "eddbfe42",
   "metadata": {},
   "outputs": [],
   "source": []
  },
  {
   "cell_type": "code",
   "execution_count": null,
   "id": "f5078ca2",
   "metadata": {},
   "outputs": [],
   "source": []
  },
  {
   "cell_type": "code",
   "execution_count": null,
   "id": "ab6ee1b4",
   "metadata": {},
   "outputs": [],
   "source": []
  },
  {
   "cell_type": "code",
   "execution_count": null,
   "id": "7fc5f46e",
   "metadata": {},
   "outputs": [],
   "source": []
  },
  {
   "cell_type": "code",
   "execution_count": null,
   "id": "50da1758",
   "metadata": {},
   "outputs": [],
   "source": []
  }
 ],
 "metadata": {
  "kernelspec": {
   "display_name": "Python 3",
   "language": "python",
   "name": "python3"
  },
  "language_info": {
   "codemirror_mode": {
    "name": "ipython",
    "version": 3
   },
   "file_extension": ".py",
   "mimetype": "text/x-python",
   "name": "python",
   "nbconvert_exporter": "python",
   "pygments_lexer": "ipython3",
   "version": "3.12.4"
  }
 },
 "nbformat": 4,
 "nbformat_minor": 5
}
