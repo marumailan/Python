{
 "cells": [
  {
   "cell_type": "markdown",
   "id": "a8f9fb1d",
   "metadata": {},
   "source": [
    "## SECTION 8: BOOLEAN AND CONDITION LOGIC\n",
    "\n",
    "## User Input\n",
    "\n",
    "There is a built-in function in Python called \"input\" that will prompt the user and store the result to a variable.\n",
    "\n",
    "```python\n",
    "\n",
    "name = input(\"Enter your name here: \")\n",
    "Enter your name here: Tyrion Lannister\n",
    "name\n",
    "'Tyrion Lannister'\n",
    "```"
   ]
  },
  {
   "cell_type": "markdown",
   "id": "57af1f31",
   "metadata": {},
   "source": [
    "## BOOLEAN EXPRESSIONS\n",
    "\n",
    "### Conditional Statements\n",
    "\n",
    "Conditionla logic using if statements represents different paths a program can take based on some type of comparison of input\n",
    "\n",
    "```python\n",
    "if some condition is True:\n",
    "    do something\n",
    "elif some other condition is True:\n",
    "    do something\n",
    "else:\n",
    "    do something\n",
    "\n",
    "```\n",
    "\n"
   ]
  },
  {
   "cell_type": "markdown",
   "id": "0914fd13",
   "metadata": {},
   "source": [
    "## TRUTHINESS\n",
    "\n",
    "In Python, all conditional checks resolve to True or False.\n",
    "\n",
    "```python\n",
    "x = 1\n",
    "x is 1 # True\n",
    "x is 0 # Fals\n",
    "```\n",
    "We can call values that will resolve to True \"truthy\", or values that will resolve to False \"falsy\".\n",
    "\n",
    "Besides False conditional checks, other things that are naturally falsy include: empty objects, empty strings, N one, and zero."
   ]
  },
  {
   "cell_type": "code",
   "execution_count": 5,
   "id": "e3ef6920",
   "metadata": {},
   "outputs": [
    {
     "name": "stdout",
     "output_type": "stream",
     "text": [
      "1+1 is my favorite animal too!\n"
     ]
    }
   ],
   "source": [
    "## Truthiness\n",
    "\n",
    "animal = input(\"Enter an animal: \\n\")\n",
    "\n",
    "if animal:\n",
    "    print(animal + \" is my favorite animal too!\")\n",
    "else:\n",
    "    print(\"You did not enter anything\")\n",
    "\n",
    "## EXPLANATION: Strings, any strings that is not empty is \"TRUE\", but when it is empty it's \"FALSE\""
   ]
  },
  {
   "cell_type": "code",
   "execution_count": 8,
   "id": "ccdafb9e",
   "metadata": {},
   "outputs": [
    {
     "name": "stdout",
     "output_type": "stream",
     "text": [
      "Please enter an age\n"
     ]
    }
   ],
   "source": [
    "age = input(\"How old are you: \")\n",
    "if age:\n",
    "    age = int(age)\n",
    "\n",
    "    if age >= 21:\n",
    "        print(\"You may enter and can have drinks\")\n",
    "    elif age >= 18:\n",
    "        print(\"You may enter but need a wristband\")\n",
    "    else:\n",
    "        print(\"You cannot come in, sorry\")\n",
    "else:\n",
    "\n",
    "    print(\"Please enter an age\")\n",
    "\n"
   ]
  }
 ],
 "metadata": {
  "kernelspec": {
   "display_name": "Python 3",
   "language": "python",
   "name": "python3"
  },
  "language_info": {
   "codemirror_mode": {
    "name": "ipython",
    "version": 3
   },
   "file_extension": ".py",
   "mimetype": "text/x-python",
   "name": "python",
   "nbconvert_exporter": "python",
   "pygments_lexer": "ipython3",
   "version": "3.12.4"
  }
 },
 "nbformat": 4,
 "nbformat_minor": 5
}
