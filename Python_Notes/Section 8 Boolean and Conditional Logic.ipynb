{
 "cells": [
  {
   "cell_type": "markdown",
   "id": "a8f9fb1d",
   "metadata": {},
   "source": [
    "## SECTION 8: BOOLEAN AND CONDITION LOGIC\n",
    "\n",
    "## User Input\n",
    "\n",
    "There is a built-in function in Python called \"input\" that will prompt the user and store the result to a variable.\n",
    "\n",
    "```python\n",
    "\n",
    "name = input(\"Enter your name here: \")\n",
    "Enter your name here: Tyrion Lannister\n",
    "name\n",
    "'Tyrion Lannister'\n",
    "```"
   ]
  },
  {
   "cell_type": "code",
   "execution_count": 5,
   "id": "e3ef6920",
   "metadata": {},
   "outputs": [
    {
     "name": "stdout",
     "output_type": "stream",
     "text": [
      "1+1 is my favorite animal too!\n"
     ]
    }
   ],
   "source": [
    "## Truthiness\n",
    "\n",
    "animal = input(\"Enter an animal: \\n\")\n",
    "\n",
    "if animal:\n",
    "    print(animal + \" is my favorite animal too!\")\n",
    "else:\n",
    "    print(\"You did not enter anything\")\n",
    "\n",
    "## EXPLANATION: Strings, any strings that is not empty is \"TRUE\", but when it is empty it's \"FALSE\""
   ]
  }
 ],
 "metadata": {
  "kernelspec": {
   "display_name": "Python 3",
   "language": "python",
   "name": "python3"
  },
  "language_info": {
   "codemirror_mode": {
    "name": "ipython",
    "version": 3
   },
   "file_extension": ".py",
   "mimetype": "text/x-python",
   "name": "python",
   "nbconvert_exporter": "python",
   "pygments_lexer": "ipython3",
   "version": "3.12.4"
  }
 },
 "nbformat": 4,
 "nbformat_minor": 5
}
