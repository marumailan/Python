{
 "cells": [
  {
   "cell_type": "code",
   "execution_count": 1,
   "id": "ce5cc21f",
   "metadata": {},
   "outputs": [
    {
     "name": "stdout",
     "output_type": "stream",
     "text": [
      "You ran 1 km\n",
      "You ran 2 km\n",
      "You ran 3 km\n",
      "You ran 4 km\n",
      "You ran 5 km\n"
     ]
    }
   ],
   "source": [
    "goal_run_km = 1\n",
    "while  goal_run_km <= 5:\n",
    "    print('You ran', goal_run_km, 'km')\n",
    "    goal_run_km += 1\n"
   ]
  },
  {
   "cell_type": "code",
   "execution_count": 2,
   "id": "11e97094",
   "metadata": {},
   "outputs": [
    {
     "name": "stdout",
     "output_type": "stream",
     "text": [
      "Running in 10 km\n",
      "Running in 9 km\n",
      "Running in 8 km\n",
      "Running in 7 km\n",
      "Running in 6 km\n",
      "Running in 5 km\n",
      "Running in 4 km\n",
      "Running in 3 km\n",
      "Running in 2 km\n",
      "Running in 1 km\n"
     ]
    }
   ],
   "source": [
    "Stamina_limit_km = 10\n",
    "\n",
    "while Stamina_limit_km > 0:\n",
    "    print('Running in', Stamina_limit_km, 'km')\n",
    "    Stamina_limit_km -= 1"
   ]
  }
 ],
 "metadata": {
  "kernelspec": {
   "display_name": "Python 3",
   "language": "python",
   "name": "python3"
  },
  "language_info": {
   "codemirror_mode": {
    "name": "ipython",
    "version": 3
   },
   "file_extension": ".py",
   "mimetype": "text/x-python",
   "name": "python",
   "nbconvert_exporter": "python",
   "pygments_lexer": "ipython3",
   "version": "3.12.4"
  }
 },
 "nbformat": 4,
 "nbformat_minor": 5
}
