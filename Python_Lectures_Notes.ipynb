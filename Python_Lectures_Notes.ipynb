{
 "cells": [
  {
   "cell_type": "markdown",
   "id": "f4602a40",
   "metadata": {},
   "source": [
    "SECTION 7: VARIABLES AND STRINGS\n",
    "\n",
    "OBJECTIVES:\n",
    "\n",
    "Understand how to assign and use variables\n",
    "Learn Python variable naming restrictions and conventions\n",
    "Learn and use some of the different data types available in Python\n",
    "Learn why Python is called a dynamically-typed language\n",
    "Understand how to convert data types\n",
    "Learn the ins and outs of Strings!\n",
    "Build a silly little program that gets user input"
   ]
  },
  {
   "cell_type": "markdown",
   "id": "a27f593a",
   "metadata": {},
   "source": [
    " A variable in Python is like a variable in mathematics: it is a named symbol that holds a value.\n",
    "\n",
    " Variables are always assigned with the variable name on the left and the value on the right of the equals sign."
   ]
  },
  {
   "cell_type": "code",
   "execution_count": null,
   "id": "1a46eb4a",
   "metadata": {},
   "outputs": [
    {
     "name": "stdout",
     "output_type": "stream",
     "text": [
      "test\n"
     ]
    }
   ],
   "source": [
    "### Variables and Data Types   \n",
    "\n",
    "### Variable\n",
    "\n",
    "x = 100\n",
    "khaleesi_mother_of_dragons = 1\n",
    "\n",
    "x = 'test'\n",
    "\n",
    "print(x)"
   ]
  }
 ],
 "metadata": {
  "kernelspec": {
   "display_name": "Python 3",
   "language": "python",
   "name": "python3"
  },
  "language_info": {
   "codemirror_mode": {
    "name": "ipython",
    "version": 3
   },
   "file_extension": ".py",
   "mimetype": "text/x-python",
   "name": "python",
   "nbconvert_exporter": "python",
   "pygments_lexer": "ipython3",
   "version": "3.12.4"
  }
 },
 "nbformat": 4,
 "nbformat_minor": 5
}
