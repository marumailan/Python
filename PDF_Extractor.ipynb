{
 "cells": [
  {
   "cell_type": "code",
   "execution_count": 1,
   "metadata": {},
   "outputs": [
    {
     "data": {
      "text/plain": [
       "'/Users/marumailan/Desktop/CC_DATASET/PDF_EXTRACTOR'"
      ]
     },
     "execution_count": 1,
     "metadata": {},
     "output_type": "execute_result"
    }
   ],
   "source": [
    "pwd"
   ]
  },
  {
   "cell_type": "code",
   "execution_count": 2,
   "metadata": {},
   "outputs": [
    {
     "name": "stdout",
     "output_type": "stream",
     "text": [
      "An error occurred: [Errno 2] No such file or directory: 'CC_Dec2024.pdf'\n"
     ]
    }
   ],
   "source": [
    "from tabula import read_pdf\n",
    "import os\n",
    "\n",
    "def extract_tables_with_tabula(pdf_file, output_folder):\n",
    "    try:\n",
    "        # Read tables from the PDF\n",
    "        tables = read_pdf(pdf_file, pages=\"all\", multiple_tables=True)\n",
    "        \n",
    "        print(f\"Found {len(tables)} table(s).\")\n",
    "        \n",
    "        if tables:\n",
    "            for i, df in enumerate(tables):\n",
    "                output_path = os.path.join(output_folder, f\"table_{i + 1}.csv\")\n",
    "                # Save each DataFrame as a CSV file\n",
    "                df.to_csv(output_path, index=False)\n",
    "                print(f\"Table {i + 1} saved as: {output_path}\")\n",
    "        else:\n",
    "            print(\"No tables found in the PDF.\")\n",
    "    \n",
    "    except Exception as e:\n",
    "        print(f\"An error occurred: {e}\")\n",
    "\n",
    "# Example usage\n",
    "pdf_file = \"CC_Dec2024.pdf\"  # Path to your PDF file\n",
    "output_folder = \"output_tables\"  # Ensure this folder exists\n",
    "\n",
    "# Ensure the output folder exists\n",
    "os.makedirs(output_folder, exist_ok=True)\n",
    "\n",
    "extract_tables_with_tabula(pdf_file, output_folder)"
   ]
  }
 ],
 "metadata": {
  "kernelspec": {
   "display_name": "Python 3",
   "language": "python",
   "name": "python3"
  },
  "language_info": {
   "codemirror_mode": {
    "name": "ipython",
    "version": 3
   },
   "file_extension": ".py",
   "mimetype": "text/x-python",
   "name": "python",
   "nbconvert_exporter": "python",
   "pygments_lexer": "ipython3",
   "version": "3.12.4"
  }
 },
 "nbformat": 4,
 "nbformat_minor": 2
}
