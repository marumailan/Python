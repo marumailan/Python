{
 "cells": [
  {
   "cell_type": "code",
   "execution_count": 1,
   "id": "4566140b",
   "metadata": {},
   "outputs": [
    {
     "name": "stdout",
     "output_type": "stream",
     "text": [
      "Enter temperature in Fahrenheit: 100\n",
      "\n",
      "\n",
      "100.0 in Fahrenheit is equal to 37.78 in Celsius\n"
     ]
    }
   ],
   "source": [
    "temp = float(input(\"Enter temperature in Fahrenheit: \"))\n",
    "celsius = (temp - 32) * 5/9\n",
    "print('\\n')\n",
    "print(\"{} in Fahrenheit is equal to {:.2f} in Celsius\".format(temp,celsius))"
   ]
  }
 ],
 "metadata": {
  "kernelspec": {
   "display_name": "Python 3 (ipykernel)",
   "language": "python",
   "name": "python3"
  },
  "language_info": {
   "codemirror_mode": {
    "name": "ipython",
    "version": 3
   },
   "file_extension": ".py",
   "mimetype": "text/x-python",
   "name": "python",
   "nbconvert_exporter": "python",
   "pygments_lexer": "ipython3",
   "version": "3.9.13"
  }
 },
 "nbformat": 4,
 "nbformat_minor": 5
}
